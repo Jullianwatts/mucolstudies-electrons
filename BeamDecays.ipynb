{
 "cells": [
  {
   "cell_type": "code",
   "execution_count": 1,
   "id": "bcf6b596",
   "metadata": {},
   "outputs": [],
   "source": [
    "import matplotlib as mpl\n",
    "import matplotlib.pyplot as plt\n",
    "from ipywidgets import interact, interactive, fixed, interact_manual\n",
    "import ipywidgets as widgets\n",
    "import numpy as np"
   ]
  },
  {
   "cell_type": "code",
   "execution_count": 2,
   "id": "090be394",
   "metadata": {},
   "outputs": [],
   "source": [
    "circ = 26700 # m\n",
    "c    = 3e8 # m / s\n",
    "mu_tau = 2.2e-6 # s\n",
    "\n",
    "n_steps = 1000\n",
    "\n",
    "e_max = 5000 # GeV\n",
    "e_inj = 400 \n",
    "e_per_turn = 14\n",
    "\n",
    "def f(e_inj, e_per_turn):\n",
    "    \n",
    "    # Calculate things in terms of time\n",
    "    t_per_turn = circ / c\n",
    "    e_per_sec = e_per_turn / t_per_turn\n",
    "    t_max = (e_max - e_inj)/e_per_sec\n",
    "    \n",
    "    # Create plot of energy v. time\n",
    "    t_vals = np.linspace(0, t_max, n_steps)\n",
    "    e_vals = t_vals*e_per_sec + e_inj\n",
    "    plt.plot(t_vals, e_vals)\n",
    "    plt.xlabel(\"Time [s]\")\n",
    "    plt.ylabel(\"Energy [GeV]\")\n",
    "    plt.ylim(bottom=0)\n",
    "    plt.grid()\n",
    "    plt.show()\n",
    "    \n",
    "    # Create plot of decay fraction v. time\n",
    "    t_step = t_max / n_steps\n",
    "    g_vals = e_vals / .106\n",
    "    t_step_proper_vals = t_step / g_vals\n",
    "    decay_frac_vals = np.exp(-t_step_proper_vals/mu_tau)\n",
    "    remaining_vals = []\n",
    "    for i, val in enumerate(decay_frac_vals):\n",
    "        if i == 0:\n",
    "            remaining_vals.append(1)\n",
    "        else:\n",
    "            remaining_vals.append(val*remaining_vals[i-1])\n",
    "    plt.plot(t_vals, remaining_vals)\n",
    "    plt.xlabel(\"Time [s]\")\n",
    "    plt.ylabel(\"Fraction of beam remaining\")\n",
    "    plt.ylim(bottom=0)\n",
    "    plt.grid()\n",
    "    plt.show()\n",
    "    \n",
    "    # Also plot v. energy\n",
    "    plt.plot(e_vals, remaining_vals)\n",
    "    plt.xlabel(\"Energy [GeV]\")\n",
    "    plt.ylabel(\"Fraction of beam remaining\")\n",
    "    plt.ylim(bottom=0)\n",
    "    plt.grid()\n",
    "    plt.show()\n",
    "     "
   ]
  },
  {
   "cell_type": "code",
   "execution_count": 3,
   "id": "5bff237a",
   "metadata": {},
   "outputs": [
    {
     "data": {
      "application/vnd.jupyter.widget-view+json": {
       "model_id": "94a84c4b4a0940e18deae12a9d5377d2",
       "version_major": 2,
       "version_minor": 0
      },
      "text/plain": [
       "interactive(children=(IntSlider(value=400, description='e_inj', max=1200, min=-400), IntSlider(value=14, descr…"
      ]
     },
     "metadata": {},
     "output_type": "display_data"
    },
    {
     "data": {
      "text/plain": [
       "<function __main__.f(e_inj, e_per_turn)>"
      ]
     },
     "execution_count": 3,
     "metadata": {},
     "output_type": "execute_result"
    }
   ],
   "source": [
    "interact(f, e_inj=e_inj, e_per_turn=widgets.IntSlider(min=1, max=50, value=e_per_turn))"
   ]
  },
  {
   "cell_type": "code",
   "execution_count": null,
   "id": "34023c5a",
   "metadata": {},
   "outputs": [],
   "source": []
  }
 ],
 "metadata": {
  "kernelspec": {
   "display_name": "Python 3 (ipykernel)",
   "language": "python",
   "name": "python3"
  },
  "language_info": {
   "codemirror_mode": {
    "name": "ipython",
    "version": 3
   },
   "file_extension": ".py",
   "mimetype": "text/x-python",
   "name": "python",
   "nbconvert_exporter": "python",
   "pygments_lexer": "ipython3",
   "version": "3.10.5"
  }
 },
 "nbformat": 4,
 "nbformat_minor": 5
}
