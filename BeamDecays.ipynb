{
 "cells": [
  {
   "cell_type": "code",
   "execution_count": 1,
   "id": "bcf6b596",
   "metadata": {},
   "outputs": [],
   "source": [
    "import matplotlib as mpl\n",
    "import matplotlib.pyplot as plt\n",
    "from ipywidgets import interact, interactive, fixed, interact_manual\n",
    "import ipywidgets as widgets\n",
    "import numpy as np"
   ]
  },
  {
   "cell_type": "code",
   "execution_count": 2,
   "id": "090be394",
   "metadata": {},
   "outputs": [],
   "source": [
    "circ = 26700 # m\n",
    "c    = 3e8 # m / s\n",
    "mu_tau = 2.2e-6 # s\n",
    "\n",
    "n_steps = 1000\n",
    "\n",
    "e_max = 7000 # GeV\n",
    "e_inj = 450 \n",
    "e_per_turn = 14.0\n",
    "sc_to_pls_ratio = 16 / 3.8\n",
    "magnet_fraction = 0.85\n",
    "\n",
    "def makePlot(x_vals, y_vals, xlab, ylab):\n",
    "    plt.plot(x_vals, y_vals)\n",
    "    plt.xlabel(xlab)\n",
    "    plt.ylabel(ylab)\n",
    "    plt.ylim(bottom=0)\n",
    "    plt.grid()\n",
    "    plt.show()\n",
    "\n",
    "def getEVsTime(e_inj, e_per_turn, e_max, circ):\n",
    "    \n",
    "    # Calculate in terms of time\n",
    "    t_per_turn = circ / c\n",
    "    e_per_sec = e_per_turn / t_per_turn\n",
    "    t_max = (e_max - e_inj)/e_per_sec\n",
    "    \n",
    "    # Get values to plot\n",
    "    t_vals = np.linspace(0, t_max, n_steps)\n",
    "    e_vals = t_vals*e_per_sec + e_inj\n",
    "    \n",
    "    return t_vals, e_vals\n",
    "\n",
    "def getFracRemainingVsTime(t_vals, e_vals):\n",
    "    \n",
    "    # Calculate the gamma for each timestep\n",
    "    t_max = t_vals[-1]\n",
    "    t_steps = []\n",
    "    for i, val in enumerate(t_vals):\n",
    "        if i > 0:\n",
    "            t_steps.append(t_vals[i]-t_vals[i-1])\n",
    "        else:\n",
    "            t_steps.append(0)\n",
    "    g_vals = e_vals / .106\n",
    "    \n",
    "    # Calculate the fraction that decays in each time step\n",
    "    t_step_proper_vals = t_steps / g_vals\n",
    "    decay_frac_vals = np.exp(-t_step_proper_vals/mu_tau)\n",
    "    \n",
    "    # Multiply those fractions to get the cumulative decay\n",
    "    remaining_vals = []\n",
    "    for i, val in enumerate(decay_frac_vals):\n",
    "        if i == 0:\n",
    "            remaining_vals.append(1)\n",
    "        else:\n",
    "            remaining_vals.append(val*remaining_vals[i-1])\n",
    "    return remaining_vals\n",
    "    \n",
    "def getBVsTime(e_vals, circ):\n",
    "    \n",
    "    r = circ / (2*np.pi) # in m\n",
    "    q = 1.6e-19 # in Coulombs\n",
    "    \n",
    "    p_vals = np.sqrt((e_vals)**2 - (0.106)**2) * 1.6e-10 / c # in kg m / s\n",
    "    p_vals\n",
    "    B_vals = p_vals / (magnet_fraction*r*q) # 0.85 assumes 15% of your length doesn't have magnets\n",
    "    #return 2*np.pi*e_vals/(0.3*circ) # From paper, returns the same\n",
    "    \n",
    "    return B_vals\n",
    "\n",
    "def plotSingle(e_inj, e_per_turn, circ, e_max, sc_to_pls_ratio):\n",
    "    \n",
    "    # Create plot of energy v. time\n",
    "    t_vals, e_vals = getEVsTime(e_inj, e_per_turn, e_max, circ)\n",
    "    makePlot(t_vals, e_vals, \"Time [s]\", \"Energy [GeV]\")\n",
    "    \n",
    "    # Create plot of decay fraction v. time and E\n",
    "    remaining_vals = getFracRemainingVsTime(t_vals, e_vals)\n",
    "    makePlot(t_vals, remaining_vals, \"Time [s]\", \"Fraction of beam remaining\")\n",
    "    makePlot(e_vals, remaining_vals, \"Energy [GeV]\", \"Fraction of beam remaining\")\n",
    "    \n",
    "    # Create a plot of B-field v. time\n",
    "    B_vals = getBVsTime(e_vals, circ)\n",
    "    makePlot(t_vals, B_vals, \"Time [s]\", \"Average B-field [T]\")\n",
    "    \n",
    "    # See https://iopscience.iop.org/article/10.1088/1748-0221/13/10/T10003/pdf for pls ratio stuff\n",
    "    ramp = (B_vals[-1]-B_vals[0])/(t_vals[-1]-t_vals[0])\n",
    "    E_ratio = e_max / e_inj\n",
    "    pls_ratio = sc_to_pls_ratio*(E_ratio-1)/(E_ratio+1) # Get fraction of L_pls / L_sc\n",
    "    pls_to_active_ratio = 1 / (1+1/pls_ratio)  # Fraction of active magnet length that are pulsed\n",
    "    pls_frac = pls_to_active_ratio*magnet_fraction # Fraction of full circumference with pulsed magnets\n",
    "    print(\"Final raction remaining: %.3f\"%remaining_vals[-1])\n",
    "    print(\"Total ramp time: %.3f ms\"%(t_vals[-1]*1000))\n",
    "    print(\"Max average B field: %.3f T\"%B_vals[-1])\n",
    "    print(\"Average ramp speed: %.3f T/s\"%ramp)\n",
    "    print(\"Length of pulsed magnet: %.3f m\"%(circ*pls_frac))\n",
    "    print(\"Length of fixed magnet: %.3f m\"%(circ*(magnet_fraction-pls_frac)))\n",
    "    print(\"Ramp speed of pulsed only: %.3f T/s\"%(ramp/pls_to_active_ratio)) \n",
    "    \n",
    "def plotDouble(e_inj0, e_per_turn0, circ0, e_inj1, e_per_turn1, circ1, e_max):\n",
    "    \n",
    "    # Create the list of the first times and energies\n",
    "    t_vals0, e_vals0 = getEVsTime(e_inj0, e_per_turn0, e_inj1, circ0)\n",
    "    t_max0 = t_vals0[-1]\n",
    "    \n",
    "    # Create the list of the second times and energies\n",
    "    t_vals1, e_vals1 = getEVsTime(e_inj1, e_per_turn1, e_max, circ1)\n",
    "    t_vals1 += t_max0\n",
    "\n",
    "    # Put them together and plot\n",
    "    t_vals = np.concatenate((t_vals0, t_vals1), axis=0)\n",
    "    e_vals = np.concatenate((e_vals0, e_vals1), axis=0)\n",
    "    makePlot(t_vals, e_vals, \"Time [s]\", \"Energy [GeV]\")\n",
    "    \n",
    "    # Get decay fraction from this\n",
    "    remaining_vals = getFracRemainingVsTime(t_vals, e_vals)\n",
    "    makePlot(t_vals, remaining_vals, \"Time [s]\", \"Fraction of beam remaining\")\n",
    "    makePlot(e_vals, remaining_vals, \"Energy [GeV]\", \"Fraction of beam remaining\")\n",
    "    \n",
    "    # Make B-field plot\n",
    "    B_vals = getBVsTime(e_vals, circ)\n",
    "    makePlot(t_vals, B_vals, \"Time [s]\", \"Average B-field [T]\")\n",
    "    \n",
    "    print(\"Fraction remaining: \", remaining_vals[-1])\n",
    "    print(\"Total first ramp time: %.3f ms\"%(t_vals0[-1]*1000))\n",
    "    print(\"Total second ramp time: %.3f ms\"%(t_vals1[-1]*1000))"
   ]
  },
  {
   "cell_type": "code",
   "execution_count": 3,
   "id": "5bff237a",
   "metadata": {},
   "outputs": [
    {
     "data": {
      "application/vnd.jupyter.widget-view+json": {
       "model_id": "251d658c904948d58928ad3688228db3",
       "version_major": 2,
       "version_minor": 0
      },
      "text/plain": [
       "interactive(children=(IntSlider(value=450, description='e_inj', max=1350, min=-450), FloatSlider(value=14.0, d…"
      ]
     },
     "metadata": {},
     "output_type": "display_data"
    }
   ],
   "source": [
    "interact(plotSingle, e_inj=e_inj, e_per_turn=e_per_turn, circ=circ, e_max=e_max, sc_to_pls_ratio=sc_to_pls_ratio);"
   ]
  },
  {
   "cell_type": "code",
   "execution_count": 4,
   "id": "34023c5a",
   "metadata": {},
   "outputs": [
    {
     "data": {
      "application/vnd.jupyter.widget-view+json": {
       "model_id": "4d110578adf14b3493e97e2123305f45",
       "version_major": 2,
       "version_minor": 0
      },
      "text/plain": [
       "interactive(children=(IntSlider(value=30, description='e_inj', max=90, min=-30), FloatSlider(value=3.7, descri…"
      ]
     },
     "metadata": {},
     "output_type": "display_data"
    }
   ],
   "source": [
    "interact(plotSingle, e_inj=30, e_per_turn=3.7, circ=6900, e_max=450, sc_to_pls_ratio=8/0.8);"
   ]
  },
  {
   "cell_type": "code",
   "execution_count": 5,
   "id": "78f5c6fb",
   "metadata": {},
   "outputs": [
    {
     "data": {
      "application/vnd.jupyter.widget-view+json": {
       "model_id": "c0e710ca6eda44eab902c880a402b43d",
       "version_major": 2,
       "version_minor": 0
      },
      "text/plain": [
       "interactive(children=(IntSlider(value=30, description='e_inj0', max=90, min=-30), FloatSlider(value=3.7, descr…"
      ]
     },
     "metadata": {},
     "output_type": "display_data"
    }
   ],
   "source": [
    "interact(plotDouble, e_inj0=30, \n",
    "         e_per_turn0=3.7,\n",
    "         circ0 = 6900,\n",
    "         e_inj1=450,\n",
    "         e_per_turn1=14,\n",
    "         circ1 = 26700,\n",
    "         e_max = 7000,\n",
    "        );"
   ]
  },
  {
   "cell_type": "code",
   "execution_count": null,
   "id": "ba8f958e",
   "metadata": {},
   "outputs": [],
   "source": []
  }
 ],
 "metadata": {
  "kernelspec": {
   "display_name": "Python 3 (ipykernel)",
   "language": "python",
   "name": "python3"
  },
  "language_info": {
   "codemirror_mode": {
    "name": "ipython",
    "version": 3
   },
   "file_extension": ".py",
   "mimetype": "text/x-python",
   "name": "python",
   "nbconvert_exporter": "python",
   "pygments_lexer": "ipython3",
   "version": "3.10.5"
  }
 },
 "nbformat": 4,
 "nbformat_minor": 5
}
